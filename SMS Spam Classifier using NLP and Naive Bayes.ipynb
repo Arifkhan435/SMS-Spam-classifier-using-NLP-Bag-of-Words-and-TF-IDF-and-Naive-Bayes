{
 "cells": [
  {
   "cell_type": "markdown",
   "id": "242843d4",
   "metadata": {},
   "source": [
    "# SMS Spam Classifier using NLP (Bag of Words and TF-IDF) and Naive Bayes"
   ]
  },
  {
   "cell_type": "code",
   "execution_count": 2,
   "id": "4f49c489",
   "metadata": {},
   "outputs": [
    {
     "name": "stdout",
     "output_type": "stream",
     "text": [
      "showing info https://raw.githubusercontent.com/nltk/nltk_data/gh-pages/index.xml\n"
     ]
    },
    {
     "data": {
      "text/plain": [
       "True"
      ]
     },
     "execution_count": 2,
     "metadata": {},
     "output_type": "execute_result"
    }
   ],
   "source": [
    "## Importing Libraries\n",
    "import pandas as  pd\n",
    "import numpy as np\n",
    "import nltk\n",
    "import re\n",
    "from nltk.corpus import stopwords\n",
    "from nltk.stem import PorterStemmer\n",
    "from nltk.stem import WordNetLemmatizer\n",
    "nltk.download()"
   ]
  },
  {
   "cell_type": "code",
   "execution_count": 6,
   "id": "d4efef34",
   "metadata": {},
   "outputs": [],
   "source": [
    "messages = pd.read_csv('SMSSpamCollection',sep='\\t', names=[\"label\",\"message\"])"
   ]
  },
  {
   "cell_type": "code",
   "execution_count": 21,
   "id": "ca8832c4",
   "metadata": {},
   "outputs": [
    {
     "data": {
      "text/html": [
       "<div>\n",
       "<style scoped>\n",
       "    .dataframe tbody tr th:only-of-type {\n",
       "        vertical-align: middle;\n",
       "    }\n",
       "\n",
       "    .dataframe tbody tr th {\n",
       "        vertical-align: top;\n",
       "    }\n",
       "\n",
       "    .dataframe thead th {\n",
       "        text-align: right;\n",
       "    }\n",
       "</style>\n",
       "<table border=\"1\" class=\"dataframe\">\n",
       "  <thead>\n",
       "    <tr style=\"text-align: right;\">\n",
       "      <th></th>\n",
       "      <th>label</th>\n",
       "      <th>message</th>\n",
       "    </tr>\n",
       "  </thead>\n",
       "  <tbody>\n",
       "    <tr>\n",
       "      <th>0</th>\n",
       "      <td>ham</td>\n",
       "      <td>Go until jurong point, crazy.. Available only ...</td>\n",
       "    </tr>\n",
       "    <tr>\n",
       "      <th>1</th>\n",
       "      <td>ham</td>\n",
       "      <td>Ok lar... Joking wif u oni...</td>\n",
       "    </tr>\n",
       "    <tr>\n",
       "      <th>2</th>\n",
       "      <td>spam</td>\n",
       "      <td>Free entry in 2 a wkly comp to win FA Cup fina...</td>\n",
       "    </tr>\n",
       "    <tr>\n",
       "      <th>3</th>\n",
       "      <td>ham</td>\n",
       "      <td>U dun say so early hor... U c already then say...</td>\n",
       "    </tr>\n",
       "    <tr>\n",
       "      <th>4</th>\n",
       "      <td>ham</td>\n",
       "      <td>Nah I don't think he goes to usf, he lives aro...</td>\n",
       "    </tr>\n",
       "  </tbody>\n",
       "</table>\n",
       "</div>"
      ],
      "text/plain": [
       "  label                                            message\n",
       "0   ham  Go until jurong point, crazy.. Available only ...\n",
       "1   ham                      Ok lar... Joking wif u oni...\n",
       "2  spam  Free entry in 2 a wkly comp to win FA Cup fina...\n",
       "3   ham  U dun say so early hor... U c already then say...\n",
       "4   ham  Nah I don't think he goes to usf, he lives aro..."
      ]
     },
     "execution_count": 21,
     "metadata": {},
     "output_type": "execute_result"
    }
   ],
   "source": [
    "messages.head()"
   ]
  },
  {
   "cell_type": "code",
   "execution_count": 8,
   "id": "c9ade742",
   "metadata": {},
   "outputs": [],
   "source": [
    "ps = PorterStemmer()\n",
    "wordnet = WordNetLemmatizer()\n",
    "corpus = []"
   ]
  },
  {
   "cell_type": "code",
   "execution_count": 9,
   "id": "23295b98",
   "metadata": {},
   "outputs": [],
   "source": [
    "## Cleaning the text\n",
    "for i in range(0,len(messages)):\n",
    "    review = re.sub('[^a-zA-Z]',' ',messages['message'][i])\n",
    "    review = review.lower()\n",
    "    review = review.split() # we are getting List of words\n",
    "    review = [wordnet.lemmatize(word) for word in review if not word in set(stopwords.words('english'))]\n",
    "    review = ' '.join(review)\n",
    "    \n",
    "    corpus.append(review)"
   ]
  },
  {
   "cell_type": "markdown",
   "id": "c13ab207",
   "metadata": {},
   "source": [
    "# Bag of Words"
   ]
  },
  {
   "cell_type": "code",
   "execution_count": 10,
   "id": "6af651e0",
   "metadata": {},
   "outputs": [],
   "source": [
    "## Bag of words for vectorization \n",
    "\n",
    "import sklearn\n",
    "from sklearn.feature_extraction.text import CountVectorizer\n",
    "cv = CountVectorizer(max_features=5000) ## set maximum feature limit equal to 5000\n",
    "x = cv.fit_transform(corpus).toarray()  ## Converting corpus into array "
   ]
  },
  {
   "cell_type": "code",
   "execution_count": 23,
   "id": "862703cf",
   "metadata": {},
   "outputs": [
    {
     "data": {
      "text/plain": [
       "array([0, 0, 1, ..., 0, 0, 0], dtype=uint8)"
      ]
     },
     "execution_count": 23,
     "metadata": {},
     "output_type": "execute_result"
    }
   ],
   "source": [
    "## Select label as Dependent variable\n",
    "y = pd.get_dummies(messages['label'])\n",
    "y = y.iloc[:,1].values\n",
    "y"
   ]
  },
  {
   "cell_type": "code",
   "execution_count": 12,
   "id": "540f4277",
   "metadata": {},
   "outputs": [],
   "source": [
    "#Train_Test_Split\n",
    "from sklearn.model_selection import train_test_split\n",
    "x_train, x_test, y_train, y_test = train_test_split(x,y,test_size=0.2, random_state=0)"
   ]
  },
  {
   "cell_type": "markdown",
   "id": "872e1b0a",
   "metadata": {},
   "source": [
    "# Create classification Model using Naive Bayes"
   ]
  },
  {
   "cell_type": "code",
   "execution_count": 13,
   "id": "8835ac46",
   "metadata": {},
   "outputs": [],
   "source": [
    "## Training Model using Naive Bayes Model\n",
    "from sklearn.naive_bayes import MultinomialNB\n",
    "spam_detect_model = MultinomialNB().fit(x_train, y_train)\n",
    "\n",
    "y_pred = spam_detect_model.predict(x_test)"
   ]
  },
  {
   "cell_type": "code",
   "execution_count": 15,
   "id": "0154b45f",
   "metadata": {},
   "outputs": [
    {
     "name": "stdout",
     "output_type": "stream",
     "text": [
      "0.9820627802690582\n"
     ]
    }
   ],
   "source": [
    "#Compute model performance\n",
    "from sklearn.metrics import confusion_matrix, accuracy_score\n",
    "print(accuracy_score(y_pred, y_test))\n",
    "cm = confusion_matrix(y_pred, y_test)"
   ]
  },
  {
   "cell_type": "code",
   "execution_count": 33,
   "id": "6d3cddcf",
   "metadata": {},
   "outputs": [
    {
     "data": {
      "text/plain": [
       "Text(0.5, 1.0, 'Confusion Matrix')"
      ]
     },
     "execution_count": 33,
     "metadata": {},
     "output_type": "execute_result"
    },
    {
     "data": {
      "image/png": "[encoded data removed]",
      "text/plain": [
       "<Figure size 432x288 with 2 Axes>"
      ]
     },
     "metadata": {
      "needs_background": "light"
     },
     "output_type": "display_data"
    }
   ],
   "source": [
    "## Confusion matrix\n",
    "import seaborn as sns\n",
    "import matplotlib.pyplot as plt\n",
    "axes = sns.heatmap(cm, cmap=plt.cm.GnBu, annot=True, square=True, fmt='d' )\n",
    "\n",
    "class_labels = ['Ham', 'Spam']\n",
    "\n",
    "axes.set_xlabel(\"Actual\")\n",
    "axes.set_ylabel(\"Model Prediction\")\n",
    "\n",
    "tick_marks = np.arange(len(class_labels)) + 0.5\n",
    "\n",
    "axes.set_xticks(tick_marks+0.3)\n",
    "axes.set_xticklabels(class_labels, rotation=0)\n",
    "\n",
    "axes.set_yticks(tick_marks+0.01)\n",
    "axes.set_yticklabels(class_labels, rotation=0)\n",
    "axes.set_title(\"Confusion Matrix\")"
   ]
  },
  {
   "cell_type": "code",
   "execution_count": null,
   "id": "1876c88a",
   "metadata": {},
   "outputs": [],
   "source": []
  },
  {
   "cell_type": "markdown",
   "id": "044f1b8a",
   "metadata": {},
   "source": [
    "# Classification using TF-IDF for Vectorization"
   ]
  },
  {
   "cell_type": "code",
   "execution_count": 34,
   "id": "f0ef853f",
   "metadata": {},
   "outputs": [],
   "source": [
    "##Creating the TF_IDF Model\n",
    "from sklearn.feature_extraction.text import TfidfVectorizer\n",
    "cv_tfidf  = TfidfVectorizer()\n",
    "x_tfidf = cv_tfidf.fit_transform(corpus).toarray()"
   ]
  },
  {
   "cell_type": "code",
   "execution_count": 35,
   "id": "df4ba7bb",
   "metadata": {},
   "outputs": [
    {
     "data": {
      "text/plain": [
       "array([[0., 0., 0., ..., 0., 0., 0.],\n",
       "       [0., 0., 0., ..., 0., 0., 0.],\n",
       "       [0., 0., 0., ..., 0., 0., 0.],\n",
       "       ...,\n",
       "       [0., 0., 0., ..., 0., 0., 0.],\n",
       "       [0., 0., 0., ..., 0., 0., 0.],\n",
       "       [0., 0., 0., ..., 0., 0., 0.]])"
      ]
     },
     "execution_count": 35,
     "metadata": {},
     "output_type": "execute_result"
    }
   ],
   "source": [
    "x_tfidf"
   ]
  },
  {
   "cell_type": "code",
   "execution_count": 36,
   "id": "ba1f63b3",
   "metadata": {},
   "outputs": [
    {
     "data": {
      "text/plain": [
       "array([0, 0, 1, ..., 0, 0, 0], dtype=uint8)"
      ]
     },
     "execution_count": 36,
     "metadata": {},
     "output_type": "execute_result"
    }
   ],
   "source": [
    "## Select label as Dependent variable\n",
    "y_tfidf = pd.get_dummies(messages['label'])\n",
    "y_tfidf = y_tfidf.iloc[:,1].values\n",
    "y_tfidf"
   ]
  },
  {
   "cell_type": "code",
   "execution_count": 38,
   "id": "b4ae6937",
   "metadata": {},
   "outputs": [],
   "source": [
    "#Train_Test_Split\n",
    "from sklearn.model_selection import train_test_split\n",
    "x_train, x_test, y_train, y_test = train_test_split(x_tfidf,y_tfidf,test_size=0.25, random_state=0)"
   ]
  },
  {
   "cell_type": "code",
   "execution_count": 42,
   "id": "25cb270d",
   "metadata": {},
   "outputs": [],
   "source": [
    "## Training Model using Naive Bayes Model\n",
    "from sklearn.naive_bayes import MultinomialNB\n",
    "spam_detect_model = MultinomialNB().fit(x_train, y_train)\n",
    "\n",
    "y_pred_tfidf = spam_detect_model.predict(x_test)"
   ]
  },
  {
   "cell_type": "code",
   "execution_count": 44,
   "id": "efbf22dd",
   "metadata": {},
   "outputs": [
    {
     "name": "stdout",
     "output_type": "stream",
     "text": [
      "0.9712849964106246\n"
     ]
    }
   ],
   "source": [
    "#Compute model performance\n",
    "from sklearn.metrics import confusion_matrix, accuracy_score\n",
    "print(accuracy_score(y_pred_tfidf, y_test))\n",
    "cm_tfidf = confusion_matrix(y_pred_tfidf, y_test)"
   ]
  },
  {
   "cell_type": "code",
   "execution_count": 46,
   "id": "76f2b0dd",
   "metadata": {},
   "outputs": [
    {
     "data": {
      "text/plain": [
       "Text(0.5, 1.0, 'Confusion Matrix TF-IDF')"
      ]
     },
     "execution_count": 46,
     "metadata": {},
     "output_type": "execute_result"
    },
    {
     "data": {
      "image/png": "[encoded data removed]",
      "text/plain": [
       "<Figure size 432x288 with 2 Axes>"
      ]
     },
     "metadata": {
      "needs_background": "light"
     },
     "output_type": "display_data"
    }
   ],
   "source": [
    "## Confusion matrix TF-IDF\n",
    "import seaborn as sns\n",
    "import matplotlib.pyplot as plt\n",
    "axes = sns.heatmap(cm_tfidf, cmap=plt.cm.GnBu, annot=True, square=True, fmt='d' )\n",
    "\n",
    "class_labels = ['Ham', 'Spam']\n",
    "\n",
    "axes.set_xlabel(\"Actual\")\n",
    "axes.set_ylabel(\"Model Prediction\")\n",
    "\n",
    "tick_marks = np.arange(len(class_labels)) + 0.5\n",
    "\n",
    "axes.set_xticks(tick_marks+0.3)\n",
    "axes.set_xticklabels(class_labels, rotation=0)\n",
    "\n",
    "axes.set_yticks(tick_marks+0.01)\n",
    "axes.set_yticklabels(class_labels, rotation=0)\n",
    "axes.set_title(\"Confusion Matrix TF-IDF\")"
   ]
  },
  {
   "cell_type": "code",
   "execution_count": null,
   "id": "3573b304",
   "metadata": {},
   "outputs": [],
   "source": []
  }
 ],
 "metadata": {
  "kernelspec": {
   "display_name": "Python 3",
   "language": "python",
   "name": "python3"
  },
  "language_info": {
   "codemirror_mode": {
    "name": "ipython",
    "version": 3
   },
   "file_extension": ".py",
   "mimetype": "text/x-python",
   "name": "python",
   "nbconvert_exporter": "python",
   "pygments_lexer": "ipython3",
   "version": "3.8.8"
  }
 },
 "nbformat": 4,
 "nbformat_minor": 5
}
